{
 "cells": [
  {
   "cell_type": "markdown",
   "id": "901a6783",
   "metadata": {},
   "source": [
    "# K-means"
   ]
  },
  {
   "cell_type": "markdown",
   "id": "39c3434b",
   "metadata": {},
   "source": [
    "### Code to perform k-means clustering. Clusters the dataset into 10 groups"
   ]
  },
  {
   "cell_type": "code",
   "execution_count": null,
   "id": "4786cd1e",
   "metadata": {},
   "outputs": [],
   "source": [
    "#function to compute euclidean distance between points\n",
    "def comp_dist(x, mu, K):\n",
    "    N,D = x.shape\n",
    "    dist = np.zeros((N, K))\n",
    "    \n",
    "    #compute euclidian dist for each sample mxk\n",
    "    for n in range(N):\n",
    "        for k in range(K):\n",
    "            dist[n, k] = np.linalg.norm(mu[k]-[x])\n",
    "    return dist \n",
    "\n",
    "#function to update centroids\n",
    "def update_centroid(x, mu, K, r):\n",
    "    for k in range(K):\n",
    "        idx, = np.where(r == k)\n",
    "        mu[k] = np.sum(x[idx, :], axis=0) / len(idx)\n",
    "    return mu\n",
    "\n",
    "#function to perform k-means clustering algorithm\n",
    "def k_means(x, K):\n",
    "    N,D = x.shape\n",
    "    \n",
    "    #initialise as random data points\n",
    "    center = np.random.choice(N, K, replace=False)\n",
    "    mu = x[center, :]\n",
    "    \n",
    "    # Initialize cost as infinity\n",
    "    prev = np.inf\n",
    "    loss=[]\n",
    "\n",
    "    for i in range(100):\n",
    "        r = np.zeros(N)\n",
    "        dist = comp_dist(x, mu, K) \n",
    "        r = np.argmin(dist, axis=1)     \n",
    "        J = 0\n",
    "        for n in range(N):\n",
    "            J += dist[n,r[n]]\n",
    "            \n",
    "        #calculate average cost \n",
    "        J /= N\n",
    "        loss.append(prev)\n",
    "       \n",
    "        #stop if change of cost is less than the threshold\n",
    "        if np.absolute(prev - J)<=0.0001:\n",
    "            break\n",
    "\n",
    "        #update cost and centroid\n",
    "        prev = J\n",
    "        mu = update_centroid(x, mu, K, r)\n",
    "    return mu, r, loss"
   ]
  }
 ],
 "metadata": {
  "kernelspec": {
   "display_name": "Python 3",
   "language": "python",
   "name": "python3"
  },
  "language_info": {
   "codemirror_mode": {
    "name": "ipython",
    "version": 3
   },
   "file_extension": ".py",
   "mimetype": "text/x-python",
   "name": "python",
   "nbconvert_exporter": "python",
   "pygments_lexer": "ipython3",
   "version": "3.8.8"
  }
 },
 "nbformat": 4,
 "nbformat_minor": 5
}
