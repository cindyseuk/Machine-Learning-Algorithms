{
 "cells": [
  {
   "cell_type": "markdown",
   "id": "2c487152",
   "metadata": {},
   "source": [
    "# Support Vector Machines using CVXpy"
   ]
  },
  {
   "cell_type": "code",
   "execution_count": null,
   "id": "37a4f055",
   "metadata": {},
   "outputs": [],
   "source": [
    "#import libraries\n",
    "import numpy as np\n",
    "import pandas as pd\n",
    "import cvxpy as cp"
   ]
  },
  {
   "cell_type": "markdown",
   "id": "e240cfed",
   "metadata": {},
   "source": [
    "### Implementation of soft-margin Linear Support Vector Machine from its primal form"
   ]
  },
  {
   "cell_type": "code",
   "execution_count": null,
   "id": "600afc91",
   "metadata": {},
   "outputs": [],
   "source": [
    "def svm_train_primal(data_train, label_train , regularisation_para_C):\n",
    "   \n",
    "    #Initialise variables\n",
    "    y = label_train\n",
    "    x = data_train\n",
    "    m,n = np.shape(x)\n",
    "    w = cp.Variable((n,1)) \n",
    "    psi = cp.Variable((m,1))\n",
    "    b = cp.Variable()\n",
    "    C = regularisation_para_C\n",
    "    \n",
    "    #Define objective \n",
    "    objective = cp.Minimize(0.5*cp.square(cp.norm(w)) + (C/m * cp.sum(psi)))   \n",
    "    \n",
    "    #Constraints \n",
    "    const1 = [cp.multiply(y[i],(w.T@x[i]+b)) >= 1-psi[i] for i in range(m)]\n",
    "    const2 = [psi[i] >= 0 for i in range(m)]\n",
    "    constraints = const1 + const2\n",
    "\n",
    "    prob = cp.Problem(objective, constraints)\n",
    "    prob.solve()      \n",
    "    print(prob.status)\n",
    "    print(\"optimal value\", prob.value)\n",
    "    model = [w.value, b.value]\n",
    "    \n",
    "    return model                        "
   ]
  },
  {
   "cell_type": "markdown",
   "id": "7a6b3889",
   "metadata": {},
   "source": [
    "### Implementation of  training algorithm of the soft-margin Linear Support Vector Machine from its dual form"
   ]
  },
  {
   "cell_type": "code",
   "execution_count": null,
   "id": "87385064",
   "metadata": {},
   "outputs": [],
   "source": [
    "def svm_train_dual (data_train , label_train , regularisation_para_C):\n",
    "    \n",
    "    #Initialise variables\n",
    "    y= label_train.reshape(-1,1)\n",
    "    x=data_train \n",
    "    n=len(y)\n",
    "    c=regularisation_para_C\n",
    "    alpha = cp.Variable((n,1)) \n",
    "    \n",
    "    #Define objective \n",
    "    objective = cp.Minimize(0.5*cp.sum_squares(x.T @ cp.multiply(alpha,y))-cp.sum(alpha))\n",
    "    \n",
    "    #Constraints \n",
    "    const1 = [c/n >= alpha[i] for i in range(n)]\n",
    "    const2 = [alpha[i] >= 0 for i in range(n)]\n",
    "    const3 = [y.T@alpha ==0]\n",
    "    constraints = const1+const2+const3\n",
    "\n",
    "    prob = cp.Problem(objective, constraints)\n",
    "    prob.solve()\n",
    "    \n",
    "    model = alpha.value    \n",
    "    return model"
   ]
  },
  {
   "cell_type": "markdown",
   "id": "dbc3d926",
   "metadata": {},
   "source": [
    "### Code to obtain the primal solution w∗,b∗ from its dual solution α∗"
   ]
  },
  {
   "cell_type": "code",
   "execution_count": null,
   "id": "a6554b9d",
   "metadata": {},
   "outputs": [],
   "source": [
    "#calculate w\n",
    "y=label_train.reshape(-1,1)\n",
    "w = ((y * a).T @ df_train)\n",
    "print(\"w: \", np.sum(w))\n",
    "\n",
    "#calculate b \n",
    "#indices corresponding to non-zero parameters\n",
    "s= (a>1e-8).flatten()\n",
    "b=y[s]-np.dot(x[s],w.T)\n",
    "print(\"b: \", np.mean(b))\n"
   ]
  },
  {
   "cell_type": "markdown",
   "id": "69a45254",
   "metadata": {},
   "source": [
    "### Code to obtain the primal solution w∗,b∗ from its dual solution α∗"
   ]
  },
  {
   "cell_type": "code",
   "execution_count": null,
   "id": "ea460dc7",
   "metadata": {},
   "outputs": [],
   "source": [
    "#the alphas that are non-zero are the support vectors\n",
    "x=df_train\n",
    "c=100\n",
    "sv_dual=[]\n",
    "\n",
    "for i in range(len(x)):\n",
    "    if (a[i] > 1e-4 and a[i]<c):\n",
    "        sv_dual.append(x[i])\n",
    "len(sv_dual)\n"
   ]
  },
  {
   "cell_type": "markdown",
   "id": "915d70e5",
   "metadata": {},
   "source": [
    "### Code to obtain the primal solution w∗,b∗ from its dual solution α∗"
   ]
  },
  {
   "cell_type": "code",
   "execution_count": null,
   "id": "3bcccc61",
   "metadata": {},
   "outputs": [],
   "source": [
    "x=df_train\n",
    "b=res[1]\n",
    "sv_primal=[]\n",
    "w=w.value\n",
    "\n",
    "for i in range(len(x)):\n",
    "    if y[i]*(w.T@x[i]+b)-1+psi.value[i] <1e-4:\n",
    "        sv_primal.append(x[i])\n",
    "\n",
    "len(sv_primal)\n"
   ]
  }
 ],
 "metadata": {
  "kernelspec": {
   "display_name": "Python 3",
   "language": "python",
   "name": "python3"
  },
  "language_info": {
   "codemirror_mode": {
    "name": "ipython",
    "version": 3
   },
   "file_extension": ".py",
   "mimetype": "text/x-python",
   "name": "python",
   "nbconvert_exporter": "python",
   "pygments_lexer": "ipython3",
   "version": "3.8.8"
  }
 },
 "nbformat": 4,
 "nbformat_minor": 5
}
