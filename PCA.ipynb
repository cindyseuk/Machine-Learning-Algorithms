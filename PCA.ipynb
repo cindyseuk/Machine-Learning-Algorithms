{
 "cells": [
  {
   "cell_type": "markdown",
   "id": "03e6fe2f",
   "metadata": {},
   "source": [
    "###  Performs PCA on the dataset to reduce each sample into a 10-dimensional feature vector. The resulting covariance matrix of the transformed data is returned"
   ]
  },
  {
   "cell_type": "code",
   "execution_count": null,
   "id": "d7db5aa8",
   "metadata": {},
   "outputs": [],
   "source": [
    "import numpy as np\n",
    "import pandas as pd"
   ]
  },
  {
   "cell_type": "code",
   "execution_count": null,
   "id": "63dc36d9",
   "metadata": {},
   "outputs": [],
   "source": [
    "def pca(data):\n",
    "    X=data\n",
    "\n",
    "    #subtract mean \n",
    "    X_mean = np.mean(data, axis=0) #sum cols \n",
    "    diff = X-X_mean\n",
    "\n",
    "    #calculate covariance matrix \n",
    "    n=len(X)\n",
    "    cov_matrix = np.matmul(diff.T,diff)* (1/(n))\n",
    "\n",
    "    #Calculate eigenvectors and eigenvalues of the covariance matrix \n",
    "    e_val,e_vec = np.linalg.eig(cov_matrix)\n",
    "\n",
    "    #Rank eigenvectors by its corresponding eigenvalues\n",
    "    e_val=e_val.real\n",
    "    e_vec=e_vec.real\n",
    "    idx = np.argsort(e_val)[::-1]\n",
    "    e_val = e_val[idx]\n",
    "    e_vec = e_vec[:,idx]\n",
    "\n",
    "    #Obtain P with its row vectors corresponding to the top k eigenvectors\n",
    "    P= e_vec[:,0:10]\n",
    "\n",
    "    #Transform data \n",
    "    Y=np.matmul(diff,P)\n",
    "\n",
    "    #Calculate covariance matrix of transformed data\n",
    "    Y_mean = np.mean(Y, axis=0)\n",
    "    Y_diff = Y-Y_mean\n",
    "    m=len(Y)\n",
    "    Y_cov= np.matmul(Y_diff.T,Y_diff)* (1/(m))\n",
    "\n",
    "    return Y_cov"
   ]
  }
 ],
 "metadata": {
  "kernelspec": {
   "display_name": "Python 3",
   "language": "python",
   "name": "python3"
  },
  "language_info": {
   "codemirror_mode": {
    "name": "ipython",
    "version": 3
   },
   "file_extension": ".py",
   "mimetype": "text/x-python",
   "name": "python",
   "nbconvert_exporter": "python",
   "pygments_lexer": "ipython3",
   "version": "3.8.8"
  }
 },
 "nbformat": 4,
 "nbformat_minor": 5
}
